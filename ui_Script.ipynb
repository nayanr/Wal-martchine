{
 "cells": [
  {
   "cell_type": "code",
   "execution_count": 14,
   "metadata": {},
   "outputs": [],
   "source": [
    "import numpy\n",
    "import matplotlib.pyplot as plt\n",
    "import os\n",
    "import sklearn\n"
   ]
  },
  {
   "cell_type": "code",
   "execution_count": 15,
   "metadata": {},
   "outputs": [],
   "source": [
    "import pandas as pd"
   ]
  },
  {
   "cell_type": "code",
   "execution_count": 16,
   "metadata": {},
   "outputs": [],
   "source": [
    "df = pd.read_csv('filtered.csv')"
   ]
  },
  {
   "cell_type": "code",
   "execution_count": 17,
   "metadata": {},
   "outputs": [],
   "source": [
    "df = df.iloc[:, [1 , 3]]"
   ]
  },
  {
   "cell_type": "code",
   "execution_count": 18,
   "metadata": {},
   "outputs": [
    {
     "data": {
      "text/html": [
       "<div>\n",
       "<style scoped>\n",
       "    .dataframe tbody tr th:only-of-type {\n",
       "        vertical-align: middle;\n",
       "    }\n",
       "\n",
       "    .dataframe tbody tr th {\n",
       "        vertical-align: top;\n",
       "    }\n",
       "\n",
       "    .dataframe thead th {\n",
       "        text-align: right;\n",
       "    }\n",
       "</style>\n",
       "<table border=\"1\" class=\"dataframe\">\n",
       "  <thead>\n",
       "    <tr style=\"text-align: right;\">\n",
       "      <th></th>\n",
       "      <th>cuisine</th>\n",
       "      <th>ingredients</th>\n",
       "    </tr>\n",
       "  </thead>\n",
       "  <tbody>\n",
       "    <tr>\n",
       "      <th>0</th>\n",
       "      <td>greek</td>\n",
       "      <td>['romaine lettuce', 'black olives', 'grape tom...</td>\n",
       "    </tr>\n",
       "    <tr>\n",
       "      <th>1</th>\n",
       "      <td>indian</td>\n",
       "      <td>['water', 'vegetable oil', 'wheat', 'salt']</td>\n",
       "    </tr>\n",
       "    <tr>\n",
       "      <th>2</th>\n",
       "      <td>indian</td>\n",
       "      <td>['black pepper', 'shallots', 'cornflour', 'cay...</td>\n",
       "    </tr>\n",
       "    <tr>\n",
       "      <th>3</th>\n",
       "      <td>jamaican</td>\n",
       "      <td>['plain flour', 'sugar', 'butter', 'eggs', 'fr...</td>\n",
       "    </tr>\n",
       "    <tr>\n",
       "      <th>4</th>\n",
       "      <td>spanish</td>\n",
       "      <td>['olive oil', 'salt', 'medium shrimp', 'pepper...</td>\n",
       "    </tr>\n",
       "    <tr>\n",
       "      <th>5</th>\n",
       "      <td>italian</td>\n",
       "      <td>['sugar', 'pistachio nuts', 'white almond bark...</td>\n",
       "    </tr>\n",
       "    <tr>\n",
       "      <th>6</th>\n",
       "      <td>mexican</td>\n",
       "      <td>['olive oil', 'purple onion', 'fresh pineapple...</td>\n",
       "    </tr>\n",
       "    <tr>\n",
       "      <th>7</th>\n",
       "      <td>italian</td>\n",
       "      <td>['chopped tomatoes', 'fresh basil', 'garlic', ...</td>\n",
       "    </tr>\n",
       "    <tr>\n",
       "      <th>8</th>\n",
       "      <td>italian</td>\n",
       "      <td>['pimentos', 'sweet pepper', 'dried oregano', ...</td>\n",
       "    </tr>\n",
       "    <tr>\n",
       "      <th>9</th>\n",
       "      <td>chinese</td>\n",
       "      <td>['low sodium soy sauce', 'fresh ginger', 'dry ...</td>\n",
       "    </tr>\n",
       "    <tr>\n",
       "      <th>10</th>\n",
       "      <td>italian</td>\n",
       "      <td>['Italian parsley leaves', 'walnuts', 'hot red...</td>\n",
       "    </tr>\n",
       "    <tr>\n",
       "      <th>11</th>\n",
       "      <td>mexican</td>\n",
       "      <td>['ground cinnamon', 'fresh cilantro', 'chili p...</td>\n",
       "    </tr>\n",
       "    <tr>\n",
       "      <th>12</th>\n",
       "      <td>italian</td>\n",
       "      <td>['fresh parmesan cheese', 'butter', 'all-purpo...</td>\n",
       "    </tr>\n",
       "    <tr>\n",
       "      <th>13</th>\n",
       "      <td>indian</td>\n",
       "      <td>['tumeric', 'vegetable stock', 'tomatoes', 'ga...</td>\n",
       "    </tr>\n",
       "    <tr>\n",
       "      <th>14</th>\n",
       "      <td>british</td>\n",
       "      <td>['greek yogurt', 'lemon curd', 'confectioners ...</td>\n",
       "    </tr>\n",
       "    <tr>\n",
       "      <th>15</th>\n",
       "      <td>italian</td>\n",
       "      <td>['italian seasoning', 'broiler-fryer chicken',...</td>\n",
       "    </tr>\n",
       "    <tr>\n",
       "      <th>16</th>\n",
       "      <td>mexican</td>\n",
       "      <td>['roma tomatoes', 'kosher salt', 'purple onion...</td>\n",
       "    </tr>\n",
       "    <tr>\n",
       "      <th>17</th>\n",
       "      <td>chinese</td>\n",
       "      <td>['sesame seeds', 'red pepper', 'yellow peppers...</td>\n",
       "    </tr>\n",
       "    <tr>\n",
       "      <th>18</th>\n",
       "      <td>italian</td>\n",
       "      <td>['marinara sauce', 'flat leaf parsley', 'olive...</td>\n",
       "    </tr>\n",
       "    <tr>\n",
       "      <th>19</th>\n",
       "      <td>chinese</td>\n",
       "      <td>['sugar', 'lo mein noodles', 'salt', 'chicken ...</td>\n",
       "    </tr>\n",
       "    <tr>\n",
       "      <th>20</th>\n",
       "      <td>italian</td>\n",
       "      <td>['ground black pepper', 'butter', 'sliced mush...</td>\n",
       "    </tr>\n",
       "    <tr>\n",
       "      <th>21</th>\n",
       "      <td>chinese</td>\n",
       "      <td>['green bell pepper', 'egg roll wrappers', 'sw...</td>\n",
       "    </tr>\n",
       "    <tr>\n",
       "      <th>22</th>\n",
       "      <td>mexican</td>\n",
       "      <td>['flour tortillas', 'cheese', 'breakfast sausa...</td>\n",
       "    </tr>\n",
       "    <tr>\n",
       "      <th>23</th>\n",
       "      <td>italian</td>\n",
       "      <td>['yellow corn meal', 'boiling water', 'butter'...</td>\n",
       "    </tr>\n",
       "    <tr>\n",
       "      <th>24</th>\n",
       "      <td>mexican</td>\n",
       "      <td>['chili powder', 'crushed red pepper flakes', ...</td>\n",
       "    </tr>\n",
       "    <tr>\n",
       "      <th>25</th>\n",
       "      <td>italian</td>\n",
       "      <td>['olive oil', 'onions', 'crushed garlic', 'dri...</td>\n",
       "    </tr>\n",
       "    <tr>\n",
       "      <th>26</th>\n",
       "      <td>italian</td>\n",
       "      <td>['olive oil', 'bread slices', 'great northern ...</td>\n",
       "    </tr>\n",
       "    <tr>\n",
       "      <th>27</th>\n",
       "      <td>italian</td>\n",
       "      <td>['Oscar Mayer Deli Fresh Smoked Ham', 'hoagie ...</td>\n",
       "    </tr>\n",
       "    <tr>\n",
       "      <th>28</th>\n",
       "      <td>mexican</td>\n",
       "      <td>['cooked chicken', 'enchilada sauce', 'sliced ...</td>\n",
       "    </tr>\n",
       "    <tr>\n",
       "      <th>29</th>\n",
       "      <td>indian</td>\n",
       "      <td>['salmon fillets', 'shallots', 'cumin seed', '...</td>\n",
       "    </tr>\n",
       "    <tr>\n",
       "      <th>...</th>\n",
       "      <td>...</td>\n",
       "      <td>...</td>\n",
       "    </tr>\n",
       "    <tr>\n",
       "      <th>24246</th>\n",
       "      <td>chinese</td>\n",
       "      <td>['jasmine rice', 'sesame oil', 'salt', 'corn s...</td>\n",
       "    </tr>\n",
       "    <tr>\n",
       "      <th>24247</th>\n",
       "      <td>indian</td>\n",
       "      <td>['sugar', 'yoghurt', 'onions', 'chicken stock'...</td>\n",
       "    </tr>\n",
       "    <tr>\n",
       "      <th>24248</th>\n",
       "      <td>mexican</td>\n",
       "      <td>['black peppercorns', 'cilantro stems', 'yello...</td>\n",
       "    </tr>\n",
       "    <tr>\n",
       "      <th>24249</th>\n",
       "      <td>indian</td>\n",
       "      <td>['sugar', 'all-purpose flour', 'instant yeast'...</td>\n",
       "    </tr>\n",
       "    <tr>\n",
       "      <th>24250</th>\n",
       "      <td>italian</td>\n",
       "      <td>['tomatoes', 'sea salt', 'dried red chile pepp...</td>\n",
       "    </tr>\n",
       "    <tr>\n",
       "      <th>24251</th>\n",
       "      <td>italian</td>\n",
       "      <td>['basil', 'zucchini', 'olive oil flavored cook...</td>\n",
       "    </tr>\n",
       "    <tr>\n",
       "      <th>24252</th>\n",
       "      <td>korean</td>\n",
       "      <td>['cooked rice', 'boneless chuck roast', 'scall...</td>\n",
       "    </tr>\n",
       "    <tr>\n",
       "      <th>24253</th>\n",
       "      <td>italian</td>\n",
       "      <td>['dried basil', 'diced tomatoes', 'dried parsl...</td>\n",
       "    </tr>\n",
       "    <tr>\n",
       "      <th>24254</th>\n",
       "      <td>greek</td>\n",
       "      <td>['extra-virgin olive oil', 'oregano', 'potatoe...</td>\n",
       "    </tr>\n",
       "    <tr>\n",
       "      <th>24255</th>\n",
       "      <td>spanish</td>\n",
       "      <td>['quinoa', 'extra-virgin olive oil', 'fresh th...</td>\n",
       "    </tr>\n",
       "    <tr>\n",
       "      <th>24256</th>\n",
       "      <td>indian</td>\n",
       "      <td>['clove', 'bay leaves', 'ginger', 'chopped cil...</td>\n",
       "    </tr>\n",
       "    <tr>\n",
       "      <th>24257</th>\n",
       "      <td>italian</td>\n",
       "      <td>['sea salt', 'pizza doughs', 'all-purpose flou...</td>\n",
       "    </tr>\n",
       "    <tr>\n",
       "      <th>24258</th>\n",
       "      <td>mexican</td>\n",
       "      <td>['kosher salt', 'minced onion', 'tortilla chip...</td>\n",
       "    </tr>\n",
       "    <tr>\n",
       "      <th>24259</th>\n",
       "      <td>mexican</td>\n",
       "      <td>['ground black pepper', 'chicken breasts', 'sa...</td>\n",
       "    </tr>\n",
       "    <tr>\n",
       "      <th>24260</th>\n",
       "      <td>italian</td>\n",
       "      <td>['rosemary sprigs', 'lemon zest', 'garlic clov...</td>\n",
       "    </tr>\n",
       "    <tr>\n",
       "      <th>24261</th>\n",
       "      <td>indian</td>\n",
       "      <td>['mint leaves', 'cilantro leaves', 'ghee', 'to...</td>\n",
       "    </tr>\n",
       "    <tr>\n",
       "      <th>24262</th>\n",
       "      <td>mexican</td>\n",
       "      <td>['vegetable oil', 'cinnamon sticks', 'water', ...</td>\n",
       "    </tr>\n",
       "    <tr>\n",
       "      <th>24263</th>\n",
       "      <td>greek</td>\n",
       "      <td>['red bell pepper', 'garlic cloves', 'extra-vi...</td>\n",
       "    </tr>\n",
       "    <tr>\n",
       "      <th>24264</th>\n",
       "      <td>greek</td>\n",
       "      <td>['milk', 'salt', 'ground cayenne pepper', 'gro...</td>\n",
       "    </tr>\n",
       "    <tr>\n",
       "      <th>24265</th>\n",
       "      <td>korean</td>\n",
       "      <td>['red chili peppers', 'sea salt', 'onions', 'w...</td>\n",
       "    </tr>\n",
       "    <tr>\n",
       "      <th>24266</th>\n",
       "      <td>chinese</td>\n",
       "      <td>['honey', 'chicken breast halves', 'cilantro l...</td>\n",
       "    </tr>\n",
       "    <tr>\n",
       "      <th>24267</th>\n",
       "      <td>indian</td>\n",
       "      <td>['curry powder', 'salt', 'chicken', 'water', '...</td>\n",
       "    </tr>\n",
       "    <tr>\n",
       "      <th>24268</th>\n",
       "      <td>italian</td>\n",
       "      <td>['fettuccine pasta', 'low-fat cream cheese', '...</td>\n",
       "    </tr>\n",
       "    <tr>\n",
       "      <th>24269</th>\n",
       "      <td>mexican</td>\n",
       "      <td>['chili powder', 'worcestershire sauce', 'cele...</td>\n",
       "    </tr>\n",
       "    <tr>\n",
       "      <th>24270</th>\n",
       "      <td>indian</td>\n",
       "      <td>['coconut', 'unsweetened coconut milk', 'mint ...</td>\n",
       "    </tr>\n",
       "    <tr>\n",
       "      <th>24271</th>\n",
       "      <td>italian</td>\n",
       "      <td>['low-fat sour cream', 'grated parmesan cheese...</td>\n",
       "    </tr>\n",
       "    <tr>\n",
       "      <th>24272</th>\n",
       "      <td>mexican</td>\n",
       "      <td>['shredded cheddar cheese', 'crushed cheese cr...</td>\n",
       "    </tr>\n",
       "    <tr>\n",
       "      <th>24273</th>\n",
       "      <td>italian</td>\n",
       "      <td>['KRAFT Zesty Italian Dressing', 'purple onion...</td>\n",
       "    </tr>\n",
       "    <tr>\n",
       "      <th>24274</th>\n",
       "      <td>chinese</td>\n",
       "      <td>['boneless chicken skinless thigh', 'minced ga...</td>\n",
       "    </tr>\n",
       "    <tr>\n",
       "      <th>24275</th>\n",
       "      <td>mexican</td>\n",
       "      <td>['green chile', 'jalapeno chilies', 'onions', ...</td>\n",
       "    </tr>\n",
       "  </tbody>\n",
       "</table>\n",
       "<p>24276 rows × 2 columns</p>\n",
       "</div>"
      ],
      "text/plain": [
       "        cuisine                                        ingredients\n",
       "0         greek  ['romaine lettuce', 'black olives', 'grape tom...\n",
       "1        indian        ['water', 'vegetable oil', 'wheat', 'salt']\n",
       "2        indian  ['black pepper', 'shallots', 'cornflour', 'cay...\n",
       "3      jamaican  ['plain flour', 'sugar', 'butter', 'eggs', 'fr...\n",
       "4       spanish  ['olive oil', 'salt', 'medium shrimp', 'pepper...\n",
       "5       italian  ['sugar', 'pistachio nuts', 'white almond bark...\n",
       "6       mexican  ['olive oil', 'purple onion', 'fresh pineapple...\n",
       "7       italian  ['chopped tomatoes', 'fresh basil', 'garlic', ...\n",
       "8       italian  ['pimentos', 'sweet pepper', 'dried oregano', ...\n",
       "9       chinese  ['low sodium soy sauce', 'fresh ginger', 'dry ...\n",
       "10      italian  ['Italian parsley leaves', 'walnuts', 'hot red...\n",
       "11      mexican  ['ground cinnamon', 'fresh cilantro', 'chili p...\n",
       "12      italian  ['fresh parmesan cheese', 'butter', 'all-purpo...\n",
       "13       indian  ['tumeric', 'vegetable stock', 'tomatoes', 'ga...\n",
       "14      british  ['greek yogurt', 'lemon curd', 'confectioners ...\n",
       "15      italian  ['italian seasoning', 'broiler-fryer chicken',...\n",
       "16      mexican  ['roma tomatoes', 'kosher salt', 'purple onion...\n",
       "17      chinese  ['sesame seeds', 'red pepper', 'yellow peppers...\n",
       "18      italian  ['marinara sauce', 'flat leaf parsley', 'olive...\n",
       "19      chinese  ['sugar', 'lo mein noodles', 'salt', 'chicken ...\n",
       "20      italian  ['ground black pepper', 'butter', 'sliced mush...\n",
       "21      chinese  ['green bell pepper', 'egg roll wrappers', 'sw...\n",
       "22      mexican  ['flour tortillas', 'cheese', 'breakfast sausa...\n",
       "23      italian  ['yellow corn meal', 'boiling water', 'butter'...\n",
       "24      mexican  ['chili powder', 'crushed red pepper flakes', ...\n",
       "25      italian  ['olive oil', 'onions', 'crushed garlic', 'dri...\n",
       "26      italian  ['olive oil', 'bread slices', 'great northern ...\n",
       "27      italian  ['Oscar Mayer Deli Fresh Smoked Ham', 'hoagie ...\n",
       "28      mexican  ['cooked chicken', 'enchilada sauce', 'sliced ...\n",
       "29       indian  ['salmon fillets', 'shallots', 'cumin seed', '...\n",
       "...         ...                                                ...\n",
       "24246   chinese  ['jasmine rice', 'sesame oil', 'salt', 'corn s...\n",
       "24247    indian  ['sugar', 'yoghurt', 'onions', 'chicken stock'...\n",
       "24248   mexican  ['black peppercorns', 'cilantro stems', 'yello...\n",
       "24249    indian  ['sugar', 'all-purpose flour', 'instant yeast'...\n",
       "24250   italian  ['tomatoes', 'sea salt', 'dried red chile pepp...\n",
       "24251   italian  ['basil', 'zucchini', 'olive oil flavored cook...\n",
       "24252    korean  ['cooked rice', 'boneless chuck roast', 'scall...\n",
       "24253   italian  ['dried basil', 'diced tomatoes', 'dried parsl...\n",
       "24254     greek  ['extra-virgin olive oil', 'oregano', 'potatoe...\n",
       "24255   spanish  ['quinoa', 'extra-virgin olive oil', 'fresh th...\n",
       "24256    indian  ['clove', 'bay leaves', 'ginger', 'chopped cil...\n",
       "24257   italian  ['sea salt', 'pizza doughs', 'all-purpose flou...\n",
       "24258   mexican  ['kosher salt', 'minced onion', 'tortilla chip...\n",
       "24259   mexican  ['ground black pepper', 'chicken breasts', 'sa...\n",
       "24260   italian  ['rosemary sprigs', 'lemon zest', 'garlic clov...\n",
       "24261    indian  ['mint leaves', 'cilantro leaves', 'ghee', 'to...\n",
       "24262   mexican  ['vegetable oil', 'cinnamon sticks', 'water', ...\n",
       "24263     greek  ['red bell pepper', 'garlic cloves', 'extra-vi...\n",
       "24264     greek  ['milk', 'salt', 'ground cayenne pepper', 'gro...\n",
       "24265    korean  ['red chili peppers', 'sea salt', 'onions', 'w...\n",
       "24266   chinese  ['honey', 'chicken breast halves', 'cilantro l...\n",
       "24267    indian  ['curry powder', 'salt', 'chicken', 'water', '...\n",
       "24268   italian  ['fettuccine pasta', 'low-fat cream cheese', '...\n",
       "24269   mexican  ['chili powder', 'worcestershire sauce', 'cele...\n",
       "24270    indian  ['coconut', 'unsweetened coconut milk', 'mint ...\n",
       "24271   italian  ['low-fat sour cream', 'grated parmesan cheese...\n",
       "24272   mexican  ['shredded cheddar cheese', 'crushed cheese cr...\n",
       "24273   italian  ['KRAFT Zesty Italian Dressing', 'purple onion...\n",
       "24274   chinese  ['boneless chicken skinless thigh', 'minced ga...\n",
       "24275   mexican  ['green chile', 'jalapeno chilies', 'onions', ...\n",
       "\n",
       "[24276 rows x 2 columns]"
      ]
     },
     "execution_count": 18,
     "metadata": {},
     "output_type": "execute_result"
    }
   ],
   "source": [
    "df"
   ]
  },
  {
   "cell_type": "code",
   "execution_count": 28,
   "metadata": {},
   "outputs": [
    {
     "name": "stdout",
     "output_type": "stream",
     "text": [
      "['water', 'vegetable oil', 'wheat', 'salt']\n"
     ]
    },
    {
     "data": {
      "text/plain": [
       "str"
      ]
     },
     "execution_count": 28,
     "metadata": {},
     "output_type": "execute_result"
    }
   ],
   "source": [
    "print(df.iloc[1 , 1])\n",
    "type(df.iloc[1 , 1])"
   ]
  },
  {
   "cell_type": "code",
   "execution_count": 31,
   "metadata": {},
   "outputs": [],
   "source": [
    "n , m  = df.shape"
   ]
  },
  {
   "cell_type": "code",
   "execution_count": 32,
   "metadata": {},
   "outputs": [
    {
     "data": {
      "text/plain": [
       "(24276, 2)"
      ]
     },
     "execution_count": 32,
     "metadata": {},
     "output_type": "execute_result"
    }
   ],
   "source": [
    "n , m"
   ]
  },
  {
   "cell_type": "code",
   "execution_count": 33,
   "metadata": {},
   "outputs": [],
   "source": [
    "ingredients_list = []\n",
    "for i in range(0 , n) :\n",
    "    ingredients_list.append(df.iloc[i , 1])"
   ]
  },
  {
   "cell_type": "markdown",
   "metadata": {},
   "source": [
    "jdfd\n"
   ]
  },
  {
   "cell_type": "code",
   "execution_count": 38,
   "metadata": {},
   "outputs": [],
   "source": [
    "for i in range(0 , n):\n",
    "    ingredients_list[i] = ingredients_list[i][1:-1]"
   ]
  },
  {
   "cell_type": "code",
   "execution_count": 61,
   "metadata": {},
   "outputs": [],
   "source": [
    "ingredients_list\n",
    "fine = {\"romaine lettuce\"}\n",
    "for i in range(0 , n) :\n",
    "    s = ingredients_list[i] \n",
    "    l = len(s)\n",
    "    flag = False\n",
    "    c = \"\"\n",
    "    for j in range(0 , l):\n",
    "        if flag == False:\n",
    "            if(s[j] == '\\'') :\n",
    "                flag = True\n",
    "                continue\n",
    "            else :\n",
    "                continue\n",
    "        if flag == True:\n",
    "            if s[j] != '\\'':\n",
    "                c = c + str(s[j])\n",
    "            else :\n",
    "                flag = False\n",
    "                fine.add(c)\n",
    "                c = \"\"\n",
    "    if(len(c) != 0) :\n",
    "        fine.add(c)"
   ]
  },
  {
   "cell_type": "code",
   "execution_count": 62,
   "metadata": {},
   "outputs": [],
   "source": [
    "l = len(fine)\n",
    "ingredients = fine\n",
    "        "
   ]
  },
  {
   "cell_type": "code",
   "execution_count": 186,
   "metadata": {},
   "outputs": [],
   "source": [
    "len(ingredients)\n",
    "binary = []"
   ]
  },
  {
   "cell_type": "code",
   "execution_count": 187,
   "metadata": {},
   "outputs": [],
   "source": [
    "\n",
    "def Convert(string): \n",
    "    li = list(string.split(\"-\")) \n",
    "    print(li)\n",
    "    add = [0] * len(ingredients);\n",
    "    for ingredient in ingredients:\n",
    "        i = 0\n",
    "        for name in li:\n",
    "            if name == ingredients:\n",
    "                add[i] = 1\n",
    "                break\n",
    "            else :\n",
    "                add[i] = 0\n",
    "        i = i + 1\n",
    "    binary.append(add)"
   ]
  },
  {
   "cell_type": "code",
   "execution_count": 213,
   "metadata": {},
   "outputs": [
    {
     "name": "stdout",
     "output_type": "stream",
     "text": [
      "['salmon fillets', 'shallots', 'cumin seed', 'fresh cilantro', 'salt', 'curry powder', 'vegetable oil', 'serrano chile', 'fresh ginger', 'sauce']\n",
      "None\n",
      "['coarse salt', 'fenugreek', 'urad dal', 'potatoes', 'white rice', 'vegetable oil']\n",
      "None\n",
      "['italian seasoning', 'broiler', 'fryer chicken', 'mayonaise', 'zesty italian dressing']\n",
      "None\n",
      "['stock', 'curry powder', 'cracked black pepper', 'minced beef', 'onions', 'plain flour', 'bread crumbs', 'butter', 'garlic', 'celery', 'cold water', 'tumeric', 'dried thyme', 'ginger', 'oil', 'tomatoes', 'water', 'paprika', 'salt', 'chillie']\n",
      "None\n",
      "['black pepper', 'apple cider vinegar', 'garlic', 'brown sugar', 'jamaican jerk season', 'red pepper flakes', 'salt', 'olive oil', 'butter', 'purple onion', 'pineapple preserves', 'shallots', 'chicken drumsticks', 'red bell pepper']\n",
      "None\n"
     ]
    }
   ],
   "source": [
    "\n",
    "str = \"salmon fillets-shallots-cumin seed-fresh cilantro-salt-curry powder-vegetable oil-serrano chile-fresh ginger-sauce\"\n",
    "\n",
    "print(Convert(str))\n",
    "\n",
    "str = \"coarse salt-fenugreek-urad dal-potatoes-white rice-vegetable oil\"\n",
    "\n",
    "print(Convert(str))\n",
    "\n",
    "\n",
    "str = \"italian seasoning-broiler-fryer chicken-mayonaise-zesty italian dressing\"\n",
    "\n",
    "print(Convert(str))\n",
    "\n",
    "str = \"stock-curry powder-cracked black pepper-minced beef-onions-plain flour-bread crumbs-butter-garlic-celery-cold water-tumeric-dried thyme-ginger-oil-tomatoes-water-paprika-salt-chillie\"\n",
    "\n",
    "print(Convert(str))\n",
    "\n",
    "str = \"black pepper-apple cider vinegar-garlic-brown sugar-jamaican jerk season-red pepper flakes-salt-olive oil-butter-purple onion-pineapple preserves-shallots-chicken drumsticks-red bell pepper\"\n",
    "\n",
    "print(Convert(str))"
   ]
  },
  {
   "cell_type": "code",
   "execution_count": 214,
   "metadata": {},
   "outputs": [
    {
     "data": {
      "text/plain": [
       "33"
      ]
     },
     "execution_count": 214,
     "metadata": {},
     "output_type": "execute_result"
    }
   ],
   "source": [
    "len(binary)"
   ]
  },
  {
   "cell_type": "code",
   "execution_count": 215,
   "metadata": {},
   "outputs": [],
   "source": [
    "import random\n",
    "for li in binary:\n",
    "    sum = 0;\n",
    "    for i in range(0 , len(li)):\n",
    "        if(li[i] == 0): \n",
    "            continue\n",
    "        sum = sum + li[i]\n",
    "    if sum == 0:\n",
    "        continue\n",
    "    for i in range(0 , len(li)):\n",
    "        li[i] = li[i] / sum\n",
    "        "
   ]
  },
  {
   "cell_type": "code",
   "execution_count": 216,
   "metadata": {},
   "outputs": [
    {
     "data": {
      "text/plain": [
       "1"
      ]
     },
     "execution_count": 216,
     "metadata": {},
     "output_type": "execute_result"
    }
   ],
   "source": [
    "1"
   ]
  },
  {
   "cell_type": "code",
   "execution_count": 219,
   "metadata": {},
   "outputs": [
    {
     "data": {
      "text/plain": [
       "33"
      ]
     },
     "execution_count": 219,
     "metadata": {},
     "output_type": "execute_result"
    }
   ],
   "source": [
    "len(binary)"
   ]
  },
  {
   "cell_type": "code",
   "execution_count": 193,
   "metadata": {},
   "outputs": [
    {
     "data": {
      "text/plain": [
       "5404"
      ]
     },
     "execution_count": 193,
     "metadata": {},
     "output_type": "execute_result"
    }
   ],
   "source": [
    "len(ingredients)"
   ]
  },
  {
   "cell_type": "code",
   "execution_count": null,
   "metadata": {},
   "outputs": [],
   "source": []
  }
 ],
 "metadata": {
  "kernelspec": {
   "display_name": "Python 3",
   "language": "python",
   "name": "python3"
  },
  "language_info": {
   "codemirror_mode": {
    "name": "ipython",
    "version": 3
   },
   "file_extension": ".py",
   "mimetype": "text/x-python",
   "name": "python",
   "nbconvert_exporter": "python",
   "pygments_lexer": "ipython3",
   "version": "3.7.3"
  }
 },
 "nbformat": 4,
 "nbformat_minor": 2
}
